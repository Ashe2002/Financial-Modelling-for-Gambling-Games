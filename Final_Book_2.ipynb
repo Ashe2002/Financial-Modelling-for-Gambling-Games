{
 "cells": [
  {
   "cell_type": "code",
   "execution_count": 1,
   "id": "d8d102ab-642b-4f3b-9206-c079599a57d3",
   "metadata": {},
   "outputs": [],
   "source": [
    "import numpy as np\n",
    "import pandas as pd\n",
    "import matplotlib.pyplot as plt\n",
    "import random\n",
    "import statistics\n",
    "import math\n",
    "from fractions import Fraction\n",
    "\n",
    "# Set the seed\n",
    "np.random.seed(42)  \n",
    "random.seed(42)sn "
   ]
  },
  {
   "cell_type": "code",
   "execution_count": 64,
   "id": "4fbaa778-0c39-478e-8238-3bfa7f614fcb",
   "metadata": {},
   "outputs": [
    {
     "name": "stdout",
     "output_type": "stream",
     "text": [
      "Game Participation: 234463\n"
     ]
    }
   ],
   "source": [
    "# Set the variables\n",
    "players = 1172315\n",
    "participation_rate = Fraction(1, 5)\n",
    "game_participation = players * participation_rate\n",
    "entry_fee = Fraction(13, 4) # 3.25\n",
    "payout_rate = Fraction(68, 100)\n",
    "platform_margin = 1 - payout_rate\n",
    "charitable_rate = Fraction(1, 10)\n",
    "\n",
    "print(f\"Game Participation: {game_participation}\")"
   ]
  },
  {
   "cell_type": "code",
   "execution_count": 65,
   "id": "27fa7555-a4f4-457c-b913-607ef8ccade1",
   "metadata": {},
   "outputs": [
    {
     "name": "stdout",
     "output_type": "stream",
     "text": [
      "Total pot: £762004.75\n",
      "Player pot: £518163.75\n",
      "Charity pot: £24384.10\n",
      "Platform profit: £219456.90\n"
     ]
    }
   ],
   "source": [
    "# Pot values\n",
    "total_pot = game_participation * entry_fee\n",
    "\n",
    "player_pot = round(game_participation * payout_rate) * entry_fee\n",
    "leftover_pot = total_pot - player_pot\n",
    "charity_pot = leftover_pot * charitable_rate\n",
    "platform_profit = leftover_pot - charity_pot\n",
    "\n",
    "print(f\"Total pot: £{total_pot:.2f}\")\n",
    "print(f\"Player pot: £{player_pot:.2f}\")\n",
    "print(f\"Charity pot: £{charity_pot:.2f}\")\n",
    "print(f\"Platform profit: £{platform_profit:.2f}\")"
   ]
  },
  {
   "cell_type": "code",
   "execution_count": 66,
   "id": "4dc4742a-a725-4557-a55a-e72d38ba71db",
   "metadata": {},
   "outputs": [
    {
     "name": "stdout",
     "output_type": "stream",
     "text": [
      "G1: 117230\n",
      "G2: 211014\n",
      "G3: 211017\n",
      "G4: 117232\n",
      "Total Scratchcards: 656493\n"
     ]
    }
   ],
   "source": [
    "# number of scratchcards\n",
    "\n",
    "# G1 = 0 - 5 %\n",
    "# G2 = 5 - 20 %\n",
    "# G3 = 20 - 50 %\n",
    "# G4 = 50 - 100 %\n",
    "\n",
    "G1 = round(Fraction(5, 100) * game_participation) * 10 #10 cards per person\n",
    "G2 = round(Fraction(15, 100) * game_participation) * 6 #6 cards per person\n",
    "G3 = round(Fraction(30, 100) * game_participation) * 3 #3 cards per person\n",
    "G4 = round(Fraction(50, 100) * game_participation) #everyone gets 1\n",
    "\n",
    "total_scratchcards = G1 + G2 + G3 + G4\n",
    "\n",
    "print(f\"G1: {G1}\")\n",
    "print(f\"G2: {G2}\")\n",
    "print(f\"G3: {G3}\")\n",
    "print(f\"G4: {G4}\")\n",
    "print(f\"Total Scratchcards: {total_scratchcards}\")"
   ]
  },
  {
   "cell_type": "code",
   "execution_count": 67,
   "id": "b0a3ee4f-cb4c-40a8-b761-6ffb3d31acc2",
   "metadata": {},
   "outputs": [
    {
     "name": "stdout",
     "output_type": "stream",
     "text": [
      "P1: £3.25\n",
      "P2: £6.50\n",
      "P3: £13.00\n",
      "P4: £22.75\n",
      "P5: £32.50\n"
     ]
    }
   ],
   "source": [
    "# Prize Values\n",
    "P1 = entry_fee * 1\n",
    "P2 = entry_fee * 2\n",
    "P3 = entry_fee * 4\n",
    "P4 = entry_fee * 7\n",
    "P5 = entry_fee * 10\n",
    "\n",
    "print(f\"P1: £{P1:.2f}\")\n",
    "print(f\"P2: £{P2:.2f}\")\n",
    "print(f\"P3: £{P3:.2f}\")\n",
    "print(f\"P4: £{P4:.2f}\")\n",
    "print(f\"P5: £{P5:.2f}\")"
   ]
  },
  {
   "cell_type": "code",
   "execution_count": 68,
   "id": "23a56e98-f0f8-4e11-81b0-e0243b26210b",
   "metadata": {},
   "outputs": [
    {
     "name": "stdout",
     "output_type": "stream",
     "text": [
      "Total Winning Scratchcards: 65649\n",
      "Entry Fee Multiplier: 159435\n"
     ]
    }
   ],
   "source": [
    "z = Fraction(1, 10)\n",
    "total_winning_scratchcards = round(z * total_scratchcards)\n",
    "Val=round(game_participation * payout_rate)\n",
    "\n",
    "print(f\"Total Winning Scratchcards: {total_winning_scratchcards}\")\n",
    "print(f\"Entry Fee Multiplier: {Val}\")"
   ]
  }
 ],
 "metadata": {
  "kernelspec": {
   "display_name": "Python 3 (ipykernel)",
   "language": "python",
   "name": "python3"
  },
  "language_info": {
   "codemirror_mode": {
    "name": "ipython",
    "version": 3
   },
   "file_extension": ".py",
   "mimetype": "text/x-python",
   "name": "python",
   "nbconvert_exporter": "python",
   "pygments_lexer": "ipython3",
   "version": "3.12.11"
  }
 },
 "nbformat": 4,
 "nbformat_minor": 5
}
